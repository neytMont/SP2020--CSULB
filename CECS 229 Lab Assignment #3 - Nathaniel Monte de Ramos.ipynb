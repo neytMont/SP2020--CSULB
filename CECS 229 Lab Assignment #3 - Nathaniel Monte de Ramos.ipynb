{
 "cells": [
  {
   "cell_type": "markdown",
   "metadata": {},
   "source": [
    "# CECS 229 Lab Assignment #3\n",
    "\n",
    "### Submission Instructions:\n",
    "\n",
    "Complete the task below. When you are finished, you must complete the following to receive a grade:\n",
    "\n",
    "1. Submit this notebook to the Dropbox by **Tuesday 2/4 @ 11:00 AM**.  Rename this file so that your actual name replaces \"YOUR NAME\". For example, I would submit to the dropbox a file called `CECS 229 Lab Assignment #3 - KATHERINE VARELA.ipynb`.\n",
    "\n",
    "2. Save your code ONLY to a .py file called `lab3.py`, and submit it on CodePost.\n"
   ]
  },
  {
   "cell_type": "markdown",
   "metadata": {},
   "source": [
    "#### Directions: Complete the function so that `binaryAdd(a, b)` returns the sum of two binary numbers `a` and `b`."
   ]
  },
  {
   "cell_type": "code",
   "execution_count": 12,
   "metadata": {},
   "outputs": [],
   "source": [
    "def binaryAdd(a, b): #def means beginning of a function\n",
    "    \n",
    "    #like javaDocs, python is called docString\n",
    "    \"\"\"returns the sum of two binary numbers a and b\n",
    "    INPUT: a,b - string representation of the binary numbers\n",
    "    OUPUT: string representation of their sum\n",
    "    \"\"\"\n",
    "    a = a.replace(\" \", \"\") #removing all whitespaces in string a\n",
    "    b = b.replace(\" \", \"\") #removing all whitespaces in string b\n",
    "    \n",
    "    m = len(a) #number of digits in string a\n",
    "    n = len(b) #number of digits in string b\n",
    "    \n",
    "    if m < n: #if string a is shorter than string b\n",
    "        num_missing_zeros = n - m\n",
    "        a = num_missing_zeros*\"0\" + a #appending 0's to the beginning of string a, to make it the same length as b\n",
    "    \n",
    "    #FIXME: IF STRING b IS SHORTER THAN STRING a, APPEND 0's TO THE BEGINNING OF STRING b TO MAKE LENGTHS EQUAL\n",
    "    if n < m:\n",
    "        num_missing_zeros = m - n\n",
    "        b = num_missing_zeros * \"0\" + b    \n",
    "    #FIXME: FINISH THE FUNCTION SO THAT IT RETURNS THE DESIRED OUTPUT \n",
    " \n",
    "    temp = ''\n",
    "    input1 = len(a)\n",
    "   \n",
    "    carry = 0\n",
    "    k = 1\n",
    "    for i in range(0, input1):\n",
    "        temp1 = (int(a[input1 - k]) + int(b[input1 - k]) + int(carry))\n",
    "        carry = int(temp1 / 2)\n",
    "        temp = str(temp1 % 2) + temp\n",
    "        k+=1\n",
    "        i+=1\n",
    "    \n",
    "    if(carry == 1):\n",
    "        temp = str(carry) + temp\n",
    "    \n",
    "    \n",
    "    print(\"a =\", a)\n",
    "    print(\"b =\", b)\n",
    "    print(\"a + b =\", temp)\n",
    "    return temp"
   ]
  },
  {
   "cell_type": "code",
   "execution_count": 14,
   "metadata": {},
   "outputs": [
    {
     "name": "stdout",
     "output_type": "stream",
     "text": [
      "a = 101000\n",
      "b = 001010\n",
      "a + b = 110010\n"
     ]
    },
    {
     "data": {
      "text/plain": [
       "'110010'"
      ]
     },
     "execution_count": 14,
     "metadata": {},
     "output_type": "execute_result"
    }
   ],
   "source": [
    "binaryAdd( \"10 1000\", \"1010\")"
   ]
  },
  {
   "cell_type": "code",
   "execution_count": null,
   "metadata": {},
   "outputs": [],
   "source": []
  },
  {
   "cell_type": "code",
   "execution_count": null,
   "metadata": {},
   "outputs": [],
   "source": []
  }
 ],
 "metadata": {
  "kernelspec": {
   "display_name": "Python 3",
   "language": "python",
   "name": "python3"
  },
  "language_info": {
   "codemirror_mode": {
    "name": "ipython",
    "version": 3
   },
   "file_extension": ".py",
   "mimetype": "text/x-python",
   "name": "python",
   "nbconvert_exporter": "python",
   "pygments_lexer": "ipython3",
   "version": "3.7.4"
  }
 },
 "nbformat": 4,
 "nbformat_minor": 2
}
